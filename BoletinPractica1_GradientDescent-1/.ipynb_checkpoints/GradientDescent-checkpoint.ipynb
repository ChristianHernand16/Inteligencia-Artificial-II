{
 "cells": [
  {
   "attachments": {
    "ups.png": {
     "image/png": "[encoded data removed]"
    }
   },
   "cell_type": "markdown",
   "metadata": {},
   "source": [
    "![ups.png](attachment:ups.png)\n",
    "                                                \n",
    "                                                \n",
    "                                                Alumno:\n",
    "                                                    Christian Hernandez\n",
    "                                                Docente:\n",
    "                                                        Ing. Vladimir Robles\n",
    "                                                Materia:\n",
    "                                                       Inteligencia Artificial II.\n",
    "                                                Tema\n",
    "                                                        GradientDescent-1\n",
    "                                                Ciclo\n",
    "                                                            10no Ciclo\n",
    "                                                            \n",
    "                                                    Cuenca Noviembre 2020"
   ]
  },
  {
   "cell_type": "markdown",
   "metadata": {},
   "source": [
    "## Descenso por gradiente definicion"
   ]
  },
  {
   "cell_type": "markdown",
   "metadata": {},
   "source": [
    "El método del descenso del gradiente es un algoritmo de optimización que permite converger hacia el valor mínimo de una función mediante un proceso iterativo. En aprendizaje automático básicamente se utiliza para minimizar una función que mide el error de predicción del modelo en el conjunto de dato"
   ]
  },
  {
   "cell_type": "markdown",
   "metadata": {},
   "source": [
    "## Objetivos:"
   ]
  },
  {
   "cell_type": "markdown",
   "metadata": {},
   "source": [
    "\n",
    "* Familiarizarse con los principales aspectos y etapas del método de descenso por gradiente.\n",
    "* Conocer y aplicar el método de descenso por gradiente para minimizar funciones sencillas.\n",
    "* Conocer cómo aplicar el proceso de descenso por gradiente de forma automatizada con soporte de **sympy** y **Jupyter Notebook*."
   ]
  },
  {
   "cell_type": "markdown",
   "metadata": {},
   "source": [
    "## Criterios de evaluación:\n"
   ]
  },
  {
   "cell_type": "markdown",
   "metadata": {},
   "source": [
    "Los criterios o rúbrica de evaluación del Boletín de Prácticas 1 son los siguientes:\n",
    "1. Adecuada complejidad de la función seleccionada para el proceso de minimización (procurar no usar funciones cóncavas).\n",
    "2. Correcta explicación y detalle de cada paso ejecutado con el método de descenso por gradiente.\n",
    "3. Verificación de la solución encontrada.\n",
    "4. Elementos extra: incluye recta (flecha) con la dirección del gradiente, animaciones, etc.\n"
   ]
  },
  {
   "cell_type": "markdown",
   "metadata": {},
   "source": [
    "## Prerrequisitos:\n"
   ]
  },
  {
   "cell_type": "markdown",
   "metadata": {},
   "source": [
    "A fin de poder realizar esta práctica, deberá contar con los siguientes prerrequisitos:\n",
    "1. Haber leído de forma completa el presente cuaderno.\n",
    "2. Tener instalados los siguientes paquetes en su computador:\n",
    "    1. Python 2.7+ (de preferencia 3.6+)\n",
    "    2. [Sympy](http://www.sympy.org)\n",
    "    3. [matplotlib](https://matplotlib.org/)\n",
    "\n"
   ]
  },
  {
   "cell_type": "markdown",
   "metadata": {},
   "source": [
    "# Práctica 1:\n"
   ]
  },
  {
   "cell_type": "markdown",
   "metadata": {},
   "source": [
    "\n",
    "Seleccionar una función matemática para realizar el proceso de minimización. \n",
    "\n",
    "Ejecutar al menos 3 pasos del método de descenso por gradiente.\n",
    "\n",
    "Diseñar y desarrollar un cuaderno en Jupyter Notebook donde se realicen todos los pasos correspondientes al proceso de minimización de la función a través del método de descenso por gradiente.\n",
    "\n",
    "El cuaderno deberá incluir los siguientes puntos:\n",
    "Gráfica de la función y los puntos que se obtienen a medida que se ejecutan los pasos de cálculo (hasta k=3).\n",
    "\n",
    "Aplicación de las funciones de derivación y evaluación de forma similar a la que se ha detallado en el presente cuaderno.\n",
    "\n",
    "Incluir un acápite sobre las funciones cóncavas y los puntos estacionarios (incluir gráficos).\n",
    "\n",
    "Emplear las funcionalidades que proveen los paquetes matplotlib y sympy."
   ]
  },
  {
   "cell_type": "markdown",
   "metadata": {},
   "source": [
    "## Ejercicio a realizar\n",
    "\n",
    "Funcion a minimizar\n",
    "\n",
    "$\\frac{1}{5.3}x^{3}-3x+x^{2}-2.37$\n",
    "\n",
    "El valor de punto de partida será $x^{(0)}=5.3$\n",
    "\n",
    "Graficamos la función que se minimizará y el punto de partida:"
   ]
  },
  {
   "cell_type": "markdown",
   "metadata": {},
   "source": [
    "## Importamos la liberias"
   ]
  },
  {
   "cell_type": "code",
   "execution_count": 1,
   "metadata": {},
   "outputs": [],
   "source": [
    "import matplotlib.pyplot as pp\n",
    "import numpy as np"
   ]
  },
  {
   "cell_type": "markdown",
   "metadata": {},
   "source": [
    "## Funcion"
   ]
  },
  {
   "cell_type": "code",
   "execution_count": 2,
   "metadata": {},
   "outputs": [],
   "source": [
    "def fx(x):\n",
    "    return np.power(x,3)-2*np.power(x,2)+6*x-10\n",
    "\n",
    "x=np.arange(-10,9.5,0.5)\n",
    "y=fx(x)"
   ]
  },
  {
   "cell_type": "markdown",
   "metadata": {},
   "source": [
    "## Grafica"
   ]
  },
  {
   "cell_type": "code",
   "execution_count": 3,
   "metadata": {},
   "outputs": [
    {
     "data": {
      "image/png": "[encoded data removed]",
      "text/plain": [
       "<Figure size 432x288 with 1 Axes>"
      ]
     },
     "metadata": {
      "needs_background": "light"
     },
     "output_type": "display_data"
    }
   ],
   "source": [
    "pp.plot(x,y,c='green')\n",
    "pp.grid(True)\n",
    "pp.show()\n",
    "a = 23"
   ]
  },
  {
   "cell_type": "markdown",
   "metadata": {},
   "source": [
    "## Funcion"
   ]
  },
  {
   "cell_type": "code",
   "execution_count": 4,
   "metadata": {},
   "outputs": [],
   "source": [
    "def fx2(x2):\n",
    "    return (1/5.3)*np.power(x2,3)-3*x2+np.power(x2,2)-2.37\n",
    "\n",
    "x2=np.arange(-4,10,0.27)\n",
    "y2=fx2(x2)\n"
   ]
  },
  {
   "cell_type": "markdown",
   "metadata": {},
   "source": [
    "## Grafica"
   ]
  },
  {
   "cell_type": "code",
   "execution_count": 5,
   "metadata": {},
   "outputs": [
    {
     "data": {
      "image/png": "[encoded data removed]",
      "text/plain": [
       "<Figure size 432x288 with 1 Axes>"
      ]
     },
     "metadata": {
      "needs_background": "light"
     },
     "output_type": "display_data"
    }
   ],
   "source": [
    "pp.plot(x2,y2,c='green')\n",
    "pp.plot(5.3,fx2(5.3),'bo')\n",
    "pp.grid(True)\n",
    "pp.show()"
   ]
  },
  {
   "cell_type": "markdown",
   "metadata": {},
   "source": [
    "## Derivacion"
   ]
  },
  {
   "cell_type": "markdown",
   "metadata": {},
   "source": [
    "\n",
    "* Realizamos derivada de la función y evaluamos su valor en el punto $x^{(0)}$:"
   ]
  },
  {
   "cell_type": "markdown",
   "metadata": {},
   "source": [
    "## Importamos la liberias"
   ]
  },
  {
   "cell_type": "code",
   "execution_count": 6,
   "metadata": {},
   "outputs": [],
   "source": [
    "from sympy import Symbol, Function, diff, solve"
   ]
  },
  {
   "cell_type": "code",
   "execution_count": 7,
   "metadata": {},
   "outputs": [],
   "source": [
    "x=Symbol('x')\n",
    "f=Function('f')(x)\n",
    "x0=5.3\n",
    "\n",
    "fx=(1/5.3)*x**3-3*x+x**2-2.37\n",
    "\n",
    "r=diff(fx)"
   ]
  },
  {
   "cell_type": "markdown",
   "metadata": {},
   "source": [
    "## Resultado"
   ]
  },
  {
   "cell_type": "code",
   "execution_count": 8,
   "metadata": {},
   "outputs": [
    {
     "name": "stdout",
     "output_type": "stream",
     "text": [
      "Derivada de la funcion:  0.566037735849057*x**2 + 2*x - 3\n",
      "*********************************************************\n",
      "Valor en x^(0): 23.5000000000000\n",
      "********************************\n"
     ]
    }
   ],
   "source": [
    "print(\"Derivada de la funcion: \",r)\n",
    "print('*********************************************************')\n",
    "print(\"Valor en x^(0):\",r.subs(x,x0).evalf())\n",
    "print('********************************')"
   ]
  },
  {
   "cell_type": "markdown",
   "metadata": {},
   "source": [
    "Lo que nos da como resultado lo siguiente:\n",
    "\n",
    "$f^{'}(x) = 0.57x^{2}+2x-3$\n",
    "\n",
    "$\\nabla f(x^{(0)}) = 23.50$\n",
    "\n",
    "* A fin de de encontrar el valor de $t^{*}_{0}$ requerido para calcular el siguiente punto $x^{(1)}$, calculamos el valor de la siguiente función:\n",
    "\n",
    " <div style=\"text-align:center\">\n",
    "     $\\theta(t) = f(x^{(0)})-t \\nabla f(x^{(0)})$.\n",
    " </div> \n",
    " \n",
    " <div style=\"text-align:center\">\n",
    "    <br />$\\theta^{'}(t)=-\\nabla f\\left( x^{(0)} - t \\nabla f(x^{(0)} \\right) \\nabla f(x^{(0)})$\n",
    "    <div style=\"text-align:center\">\n",
    "      <br />$=-\\nabla f\\left( \\mathbf(5.3)-t \\nabla f(x^{0}) \\right) \\nabla f(x^{(0)})$\n",
    "     <div style=\"text-align:center\">\n",
    "        <br />$=-\\nabla f\\left( \\mathbf(5.3)-23.50\\cdot t \\right) 23.50$\n",
    " </div> \n",
    "        \n",
    "        \n",
    "   En este punto, sustituimos $(5.3-23.50\\cdot t)$ por $x$ en la función a minimizar que derivamos previamente $f^{'}(x) = 0.57x^{2}+2x-3$:\n",
    "   \n",
    "        \n",
    "<div style=\"text-align:center\">\n",
    "    <br />$=-\\left( 0.57\\cdot(5.3-23.5t)^{2}+2 \\cdot (5.3-23.5t)-3 \\right)\\cdot 23.50$\n",
    "</div>\n",
    "\n",
    "   Aplicamos factoreo a la ecuación y calculamos las raíces"
   ]
  },
  {
   "cell_type": "markdown",
   "metadata": {},
   "source": [
    "## Ingresamos la funcion en sympy y buscamos las raices:"
   ]
  },
  {
   "cell_type": "code",
   "execution_count": 9,
   "metadata": {},
   "outputs": [
    {
     "name": "stdout",
     "output_type": "stream",
     "text": [
      "-314.7825*x**2 + 188.987*x - 23.6113\n",
      "Raices de la ecuacion: [0.177289454026470, 0.423083819583086]\n"
     ]
    }
   ],
   "source": [
    "fp=-((0.57*(5.3-23.5*x)**2+2*(5.3-23.5*x)-3))\n",
    "print(fp.expand())\n",
    "\n",
    "print(\"Raices de la ecuacion:\" ,solve(fp))"
   ]
  },
  {
   "cell_type": "markdown",
   "metadata": {},
   "source": [
    "## No realizamos la multiplicación por $23.5$ ya que luego se igualará a $0$, con ello tenemos lo siguiente:"
   ]
  },
  {
   "cell_type": "markdown",
   "metadata": {},
   "source": [
    "\n",
    "   \n",
    "<div style=\"text-align:center\">\n",
    "    <br />$=-\\left( -314.78x^{2}+188.99x-23.6113 \\right)\\cdot 23.5$\n",
    "</div>\n",
    "\n",
    "   Y las raíces de la ecuación representarán 2 posibles valores para $t^{*}_{0}$:\n",
    "\n",
    "<div style=\"text-align:center\">\n",
    "    <br />$\\left[ 0.18, 0.42 \\right]$\n",
    "</div>\n",
    "\n",
    "   Con ello, calculamos los dos posibles puntos $x^{(1)}$ y determinamos con cuál de los 2 se minimiza de mejor forma la función:\n",
    "\n",
    "<div style=\"text-align:center\">   \n",
    "   $\n",
    "       \\begin{split}\n",
    "           x^{(1)}=\\begin{cases}\n",
    "               5.3-0.177\\cdot 23.50~ = & \\mathbf{1.14}\\\\\n",
    "               5.3-0.423\\cdot 23.50~ = & \\mathbf{-4.64}\n",
    "           \\end{cases}\n",
    "       \\end{split}\n",
    "   $\n",
    "</div>\n",
    "\n",
    "   De igual forma, evaluamos la función original con los dos nuevos puntos $x^{(1)}$ y en base a ello determinamos cuál es el que minimiza de mejor manera su valor:"
   ]
  },
  {
   "cell_type": "code",
   "execution_count": 10,
   "metadata": {},
   "outputs": [
    {
     "name": "stdout",
     "output_type": "stream",
     "text": [
      "Valores con de la funcion: [-4, 14]\n"
     ]
    }
   ],
   "source": [
    "v1=fx.subs(x,1.14).evalf()\n",
    "v2=fx.subs(x,-4.64).evalf()\n",
    "\n",
    "print(\"Valores con de la funcion: [%d, %d]\" % (v1,v2))"
   ]
  },
  {
   "cell_type": "markdown",
   "metadata": {},
   "source": [
    "<div style=\"text-align:center\">   \n",
    "   $\n",
    "       \\begin{split}\n",
    "           f{(x)}=\\begin{cases}\n",
    "               f(1.14)~ = & \\mathbf{-4}\\\\\n",
    "               f(-4.6405)~ = & \\mathbf{14}\n",
    "           \\end{cases}\n",
    "       \\end{split}\n",
    "   $\n",
    "</div>\n",
    "   Con ello, determinamos que la mejor alternativa es la de la segunda raíz para calcular el punto $x^{(1)}=1.14$ y hacemos $k \\leftarrow k+1$ . "
   ]
  },
  {
   "cell_type": "markdown",
   "metadata": {},
   "source": [
    "## Grafica"
   ]
  },
  {
   "cell_type": "code",
   "execution_count": 11,
   "metadata": {},
   "outputs": [
    {
     "data": {
      "image/png": "[encoded data removed]",
      "text/plain": [
       "<Figure size 432x288 with 1 Axes>"
      ]
     },
     "metadata": {
      "needs_background": "light"
     },
     "output_type": "display_data"
    }
   ],
   "source": [
    "pp.plot(x2,y2,'r',color='green')\n",
    "pp.plot(1.14,fx2(1.14),'bo')\n",
    "pp.grid(True)\n",
    "pp.show()"
   ]
  },
  {
   "cell_type": "markdown",
   "metadata": {},
   "source": [
    "## Derivada"
   ]
  },
  {
   "cell_type": "code",
   "execution_count": 12,
   "metadata": {},
   "outputs": [
    {
     "name": "stdout",
     "output_type": "stream",
     "text": [
      "Derivada de la funcion:  0.566037735849057*x**2 + 2*x - 3\n",
      "Valor en x^(1): 0.0156226415094338\n"
     ]
    }
   ],
   "source": [
    "x1 = 1.14\n",
    "print(\"Derivada de la funcion: \",r)\n",
    "print(\"Valor en x^(1):\",r.subs(x,x1).evalf())"
   ]
  },
  {
   "cell_type": "markdown",
   "metadata": {},
   "source": [
    "## Segunda Interaccion"
   ]
  },
  {
   "cell_type": "markdown",
   "metadata": {},
   "source": [
    "$\\nabla f(x^{(1)}) = 0.016$\n",
    "\n",
    " <div style=\"text-align:center\">\n",
    "     $\\theta(t) = f(x^{(1)})-t \\nabla f(x^{(1)})$.\n",
    " </div> \n",
    " \n",
    " <div style=\"text-align:center\">\n",
    "    <br />$\\theta^{'}(t)=-\\nabla f\\left( x^{(1)} - t \\nabla f(x^{(1)} \\right) \\nabla f(x^{(1)})$\n",
    " <div style=\"text-align:center\">   \n",
    "   <br />$=-\\nabla f\\left( \\mathbf(1.14)-t \\nabla f(x^{1}) \\right) \\nabla f(x^{(1)})$\n",
    " <div style=\"text-align:center\">   \n",
    "   <br />$=-\\nabla f\\left( \\mathbf(1.14)-0.016\\cdot t \\right) 0.016$\n",
    " </div> \n",
    "        \n",
    "   En este punto, sustituimos $(1.14-0.016\\cdot t)$ por $x$ en la función a minimizar que derivamos previamente $f^{'}(x) = 0.57x^{2}+2x-3$:\n",
    "   \n",
    "<div style=\"text-align:center\">\n",
    "    <br />$=-\\left( 0.57\\cdot(1.14-0.016t)^{2}+2 \\cdot (1.14-0.016t)-3 \\right)\\cdot 0.016$\n",
    "</div>\n",
    "\n",
    "   Aplicamos factoreo a la ecuación y calculamos las raíces:"
   ]
  },
  {
   "cell_type": "markdown",
   "metadata": {},
   "source": [
    "## Ingresamos la funcion en sympy y buscamos las raices:"
   ]
  },
  {
   "cell_type": "code",
   "execution_count": 13,
   "metadata": {},
   "outputs": [
    {
     "name": "stdout",
     "output_type": "stream",
     "text": [
      "-0.00014592*x**2 + 0.0527936*x - 0.0207719999999997\n",
      "Raices de la ecuacion: [0.393885601377983, 361.404360012657]\n"
     ]
    }
   ],
   "source": [
    "fp=-((0.57*(1.14-0.016*x)**2+2*(1.14-0.016*x)-3))\n",
    "print(fp.expand())\n",
    "\n",
    "print(\"Raices de la ecuacion:\" ,solve(fp))"
   ]
  },
  {
   "cell_type": "markdown",
   "metadata": {},
   "source": [
    "## No realizamos la multiplicación por $0.016$ ya que luego se igualará a $0$, con ello tenemos lo siguiente:"
   ]
  },
  {
   "cell_type": "markdown",
   "metadata": {},
   "source": [
    "  \n",
    "<div style=\"text-align:center\">\n",
    "    <br />$=-\\left( -0.00014x^{2}+0.052x-0.020 \\right)\\cdot 0.016$\n",
    "</div>\n",
    "\n",
    "   Y las raíces de la ecuación representarán 2 posibles valores para $t^{*}_{1}$:\n",
    "\n",
    "<div style=\"text-align:center\">\n",
    "    <br />$\\left[ 0.393, 361.40 \\right]$\n",
    "</div>\n",
    "\n",
    "   Con ello, calculamos los dos posibles puntos $x^{(1)}$ y determinamos con cuál de los 2 se minimiza de mejor forma la función:\n",
    "\n",
    "<div style=\"text-align:center\">   \n",
    "   $\n",
    "       \\begin{split}\n",
    "           x^{(1)}=\\begin{cases}\n",
    "               1.14-0.393\\cdot 0.016~ = & \\mathbf{1.133}\\\\\n",
    "               5.3-361.40\\cdot 0.016~ = & \\mathbf{-4.6424}\n",
    "           \\end{cases}\n",
    "       \\end{split}\n",
    "   $\n",
    "</div>\n",
    "\n",
    "   De igual forma, evaluamos la función original con los dos nuevos puntos $x^{(1)}$ y en base a ello determinamos cuál es el que minimiza de mejor manera su valor:"
   ]
  },
  {
   "cell_type": "markdown",
   "metadata": {},
   "source": [
    "## Funcion"
   ]
  },
  {
   "cell_type": "code",
   "execution_count": 14,
   "metadata": {},
   "outputs": [
    {
     "name": "stdout",
     "output_type": "stream",
     "text": [
      "Valores con de la funcion: [-4, 14]\n"
     ]
    }
   ],
   "source": [
    "v1=fx.subs(x,1.133).evalf()\n",
    "v2=fx.subs(x,-4.6424).evalf()\n",
    "\n",
    "print(\"Valores con de la funcion: [%d, %d]\" % (v1,v2))"
   ]
  },
  {
   "cell_type": "markdown",
   "metadata": {},
   "source": [
    "## Grafica"
   ]
  },
  {
   "cell_type": "code",
   "execution_count": 15,
   "metadata": {},
   "outputs": [
    {
     "data": {
      "image/png": "[encoded data removed]",
      "text/plain": [
       "<Figure size 432x288 with 1 Axes>"
      ]
     },
     "metadata": {
      "needs_background": "light"
     },
     "output_type": "display_data"
    }
   ],
   "source": [
    "pp.plot(x2,y2,'r',color='green')\n",
    "pp.plot(1.133,fx2(1.133),'bo')\n",
    "pp.grid(True)\n",
    "pp.show()"
   ]
  },
  {
   "cell_type": "markdown",
   "metadata": {},
   "source": [
    "## Derivada"
   ]
  },
  {
   "cell_type": "code",
   "execution_count": 16,
   "metadata": {},
   "outputs": [
    {
     "name": "stdout",
     "output_type": "stream",
     "text": [
      "Derivada de la funcion:  0.566037735849057*x**2 + 2*x - 3\n",
      "Valor en x^(1): -0.00738358490566016\n"
     ]
    }
   ],
   "source": [
    "x2 = 1.133\n",
    "print(\"Derivada de la funcion: \",r)\n",
    "print(\"Valor en x^(1):\",r.subs(x,x2).evalf())"
   ]
  },
  {
   "cell_type": "markdown",
   "metadata": {},
   "source": [
    "## Tercera Interaccion"
   ]
  },
  {
   "cell_type": "markdown",
   "metadata": {},
   "source": [
    "\n",
    "$\\nabla f(x^{(2)}) = 0.0074$\n",
    "\n",
    " <div style=\"text-align:center\">\n",
    "     $\\theta(t) = f(x^{(2)})-t \\nabla f(x^{(2)})$.\n",
    " </div> \n",
    " \n",
    " <div style=\"text-align:center\">\n",
    "    <br />$\\theta^{'}(t)=-\\nabla f\\left( x^{(2)} - t \\nabla f(x^{(2)} \\right) \\nabla f(x^{(2)})$\n",
    " <div style=\"text-align:center\">\n",
    "    <br />$=-\\nabla f\\left( \\mathbf(1.133)-t \\nabla f(x^{1}) \\right) \\nabla f(x^{(1)})$\n",
    "  <div style=\"text-align:center\">\n",
    "    <br />$=-\\nabla f\\left( \\mathbf(1.133)-0.0074\\cdot t \\right) 0.016$\n",
    " </div> \n",
    " \\_  \n",
    "     \n",
    "   En este punto, sustituimos $(1.133-0.0074\\cdot t)$ por $x$ en la función a minimizar que derivamos previamente $f^{'}(x) = 0.57x^{2}+2x-3$:\n",
    "     \n",
    "   \n",
    "<div style=\"text-align:center\">\n",
    "    <br />$=-\\left( 0.57\\cdot(1.133-0.0074t)^{2}+2 \\cdot (1.133-0.0074t)-3 \\right)\\cdot 0.0074$\n",
    "</div>\n",
    "\n",
    "   Aplicamos factoreo a la ecuación y calculamos las raíces:"
   ]
  },
  {
   "cell_type": "markdown",
   "metadata": {},
   "source": [
    "## Ingresamos la funcion en sympy y buscamos las raices:"
   ]
  },
  {
   "cell_type": "code",
   "execution_count": 17,
   "metadata": {},
   "outputs": [
    {
     "name": "stdout",
     "output_type": "stream",
     "text": [
      "-3.12132e-5*x**2 + 0.024357988*x + 0.00229727000000002\n",
      "Raices de la ecuacion: [-0.0943014024259826, 780.468886513853]\n"
     ]
    }
   ],
   "source": [
    "fp=-((0.57*(1.133-0.0074*x)**2+2*(1.133-0.0074*x)-3))\n",
    "print(fp.expand())\n",
    "\n",
    "print(\"Raices de la ecuacion:\" ,solve(fp))"
   ]
  },
  {
   "cell_type": "markdown",
   "metadata": {},
   "source": [
    "## No realizamos la multiplicación por $0.0074$ ya que luego se igualará a $0$, con ello tenemos lo siguiente:"
   ]
  },
  {
   "cell_type": "markdown",
   "metadata": {},
   "source": [
    "   \n",
    "<div style=\"text-align:center\">\n",
    "    <br />$=-\\left( -0.000003121x^{2}+0.02435x-0.0022 \\right)\\cdot 0.0074$\n",
    "</div>\n",
    "\n",
    "   Y las raíces de la ecuación representarán 2 posibles valores para $t^{*}_{1}$:\n",
    "\n",
    "<div style=\"text-align:center\">\n",
    "    <br />$\\left[ 0.0943, 780.47 \\right]$\n",
    "</div>\n",
    "\n",
    "   Con ello, calculamos los dos posibles puntos $x^{(1)}$ y determinamos con cuál de los 2 se minimiza de mejor forma la función:\n",
    "\n",
    "<div style=\"text-align:center\">   \n",
    "   $\n",
    "       \\begin{split}\n",
    "           x^{(1)}=\\begin{cases}\n",
    "               1.133-(-0.094)\\cdot 0.0074~ = & \\mathbf{1.1336956}\\\\\n",
    "               5.3-780.47\\cdot 0.0074~ = & \\mathbf{-4.642478}\n",
    "           \\end{cases}\n",
    "       \\end{split}\n",
    "   $\n",
    "</div>\n",
    "\n",
    "   De igual forma, evaluamos la función original con los dos nuevos puntos $x^{(1)}$ y en base a ello determinamos cuál es el que minimiza de mejor manera su valor:"
   ]
  },
  {
   "cell_type": "markdown",
   "metadata": {},
   "source": [
    "# Práctica 2:"
   ]
  },
  {
   "cell_type": "markdown",
   "metadata": {},
   "source": [
    "Seleccionar una función matemática f(x,y) para realizar el proceso de minimización. \n",
    "\n",
    "Ejecutar al menos 3 pasos del método de descenso por gradiente.\n",
    "\n",
    "Diseñar y desarrollar un cuaderno en Jupyter Notebook donde se realicen todos los pasos correspondientes al proceso de minimización de la función a través del método de descenso por gradiente.\n",
    "\n",
    "El cuaderno deberá incluir los siguientes puntos:\n",
    "\n",
    "Gráfica de la función y los puntos que se obtienen a medida que se ejecutan los pasos de cálculo (hasta k=3).\n",
    "\n",
    "Aplicación de las funciones de derivación y evaluación de forma similar a la que se ha detallado en el presente cuaderno.\n",
    "\n",
    "Incluir un acápite sobre las funciones cóncavas y los puntos estacionarios (incluir gráficos).\n",
    "\n",
    "Emplear las funcionalidades que proveen los paquetes matplotlib y sympy."
   ]
  },
  {
   "cell_type": "markdown",
   "metadata": {},
   "source": [
    "## Ejemplo de aplicación"
   ]
  },
  {
   "cell_type": "markdown",
   "metadata": {},
   "source": [
    "Punto de partida es $x^{(0)}=(3,4)$:\n",
    "\n",
    "$f(x,y)=3x^{3}+2xy+5y^{3}+8.9$\n"
   ]
  },
  {
   "cell_type": "markdown",
   "metadata": {},
   "source": [
    "## Importamos librerias"
   ]
  },
  {
   "cell_type": "code",
   "execution_count": 39,
   "metadata": {},
   "outputs": [],
   "source": [
    "import matplotlib.pyplot as pp\n",
    "from mpl_toolkits.mplot3d import Axes3D\n",
    "from matplotlib import cm\n",
    "from matplotlib.ticker import LinearLocator, FormatStrFormatter\n",
    "import numpy as np\n",
    "\n",
    "%matplotlib inline"
   ]
  },
  {
   "cell_type": "markdown",
   "metadata": {},
   "source": [
    "## Creamos la malla y la superficie"
   ]
  },
  {
   "cell_type": "code",
   "execution_count": 40,
   "metadata": {},
   "outputs": [
    {
     "data": {
      "image/png": "[encoded data removed]",
      "text/plain": [
       "<Figure size 432x288 with 2 Axes>"
      ]
     },
     "metadata": {
      "needs_background": "light"
     },
     "output_type": "display_data"
    }
   ],
   "source": [
    "def fxy(x,y):\n",
    "    return (3*np.power(x,3.)+2*np.dot(x,y)+5*np.power(y,3.)+8.9)\n",
    "\n",
    "fig=pp.figure()\n",
    "axes=fig.gca(projection='3d')\n",
    "\n",
    "x=np.arange(-3.,3.,0.23)\n",
    "y=np.arange(-3.,3.,0.23)\n",
    "\n",
    "x, y = np.meshgrid(x,y) \n",
    "z=fxy(x,y)\n",
    "surface=axes.plot_surface(x,y,z,cmap=cm.coolwarm,linewidth=0,antialiased=False)\n",
    "\n",
    "axes.set_zlim(43.,200.)\n",
    "axes.zaxis.set_major_locator(LinearLocator(10))\n",
    "axes.zaxis.set_major_formatter(FormatStrFormatter('%.02f'))\n",
    "\n",
    "fig.colorbar(surface, shrink=0.5, aspect=5)\n",
    "pp.show()"
   ]
  },
  {
   "cell_type": "markdown",
   "metadata": {},
   "source": [
    "## Descenso por Gradiente\n",
    "\n"
   ]
  },
  {
   "cell_type": "markdown",
   "metadata": {},
   "source": [
    "Dado que no conocemos el valor óptimo de $x$, hacemos $k\\leftarrow 0$, como nos indica el algoritmo. A continuación procedemos a calcular los siguientes elementos:\n",
    "\n",
    "* La derivada **parcial** de la función original $f(x,y)=3x^{3}+2xy+5y^{3}+8.9$.\n",
    "* Evaluamos la función original en el punto $x^{(0)}=(3,4)$."
   ]
  },
  {
   "cell_type": "markdown",
   "metadata": {},
   "source": [
    "## Dibujamos la superficie"
   ]
  },
  {
   "cell_type": "markdown",
   "metadata": {},
   "source": [
    "### Importamos librerias"
   ]
  },
  {
   "cell_type": "code",
   "execution_count": 41,
   "metadata": {},
   "outputs": [],
   "source": [
    "from sympy import Function, Symbol, diff, solve"
   ]
  },
  {
   "cell_type": "code",
   "execution_count": 42,
   "metadata": {},
   "outputs": [
    {
     "name": "stdout",
     "output_type": "stream",
     "text": [
      "[ 9*x**2 + 2*y , 2*x + 15*y**2 ]\n",
      "Valor en el punto (x^(0),y^(0)) => (3,4) =  433.900000000000\n"
     ]
    }
   ],
   "source": [
    "x=Symbol('x')\n",
    "y=Symbol('y')\n",
    "f=Function('f')(x)\n",
    "\n",
    "fx=3*x**3+2*x*y+5*y**3+8.9\n",
    "\n",
    "fpx=diff(fx,x)\n",
    "fpy=diff(fx,y)\n",
    "print(\"[\",fpx,\",\",fpy,\"]\")\n",
    "\n",
    "print(\"Valor en el punto (x^(0),y^(0)) => (3,4) = \",fx.subs(x,3.).subs(y,4.).evalf())"
   ]
  },
  {
   "cell_type": "markdown",
   "metadata": {},
   "source": [
    "## Lo que nos da como resultado los siguientes valores:"
   ]
  },
  {
   "cell_type": "markdown",
   "metadata": {},
   "source": [
    "\n",
    "\n",
    "$\\nabla f(x,y) =  \\binom{\\frac{\\partial f(x,y)}{\\partial x}}{\\frac{\\partial f(x,y)}{\\partial y}}= \\binom{9x^{2}+2y}{2x+15y^{2}} $\n",
    "\n",
    "$\\nabla f\\left((x^{(0)},y^{(0)}) = (3,4)\\right) = 433.9$\n",
    "\n",
    "\n"
   ]
  },
  {
   "cell_type": "markdown",
   "metadata": {},
   "source": [
    "### 1. Ahora buscaremos encontrar el siguiente punto con coordenadas "
   ]
  },
  {
   "cell_type": "markdown",
   "metadata": {},
   "source": [
    "$\\left(x^{(k+1)}, y^{(k+1)}\\right)$, para ello debemos calcular:\n",
    "<div style=\"text-align:center\">\n",
    "    <br />$\\left(x^{(1)},y^{(1)}\\right)=(x^{(0)},y^{(0)})-t^{*}_{0} \\nabla f(x^{(0)},y^{(0)})$ <br />\n",
    "    <br />\n",
    "</div>\n"
   ]
  },
  {
   "cell_type": "markdown",
   "metadata": {},
   "source": [
    "### 2. Para encontrar el valor de $t^{*}_{0}$, debemos hallar el mínimo de la función $\\theta(t) = f(x^{(0)},y^{(0)})-t \\nabla f(x^{(0),y^{(0)}}$. Para realizar este paso, buscamos en el punto estacionario trabajando con la derivada de la función a minimizar. En este punto, usaremos una notación vectorial:\n",
    "\n",
    " "
   ]
  },
  {
   "cell_type": "markdown",
   "metadata": {},
   "source": [
    " - Para esto, calculamos el valor de $t^{*}_{k}$ empleando el punto $x^{(0)}$, y la función de $t$ y en base a la derivada de la función a minimizar:\n",
    "<div style=\"text-align:center\">\n",
    "    <br />$\\theta^{'}(t)=-\\nabla f\\left( (x^{(0)},y^{(0)} )- t \\nabla f(x^{(0)},y^{(0)}) \\right) \\nabla f(x^{(0)},y^{(0)})$ <br/ >\n",
    "    <br />$=-\\nabla f\\left( (3,4)- t \\nabla f(3,4)  \\right) \\nabla f(x^{(0)},y^{(0)})$ <br/ >\n",
    "</div>   \n"
   ]
  },
  {
   "cell_type": "markdown",
   "metadata": {},
   "source": [
    "### Para hallar $\\nabla f(x^{(0)},y^{(0)})$, simplemente sustituimos el punto $(3,4)$ en ambas partes de la función original que se derivó con respecto a $x$ y con respecto a $y$:\n",
    "   "
   ]
  },
  {
   "cell_type": "markdown",
   "metadata": {},
   "source": [
    "<div style=\"text-align:center\">\n",
    "   <br/ >$\\nabla f(x^{(0)},y^{(0)}) = \\binom{9x^{2}+2y}{2x+15y^{2}}$ <br/ >\n",
    "   <br/ >$\\nabla f(3,4) = \\binom{9\\cdot 3^{2}+2(4)}{2(3)+15\\cdot 4^{2}}$ <br/ >\n",
    "   <br/ >$\\nabla f(3,4) = (89, 246)$ <br/ >\n",
    "</div>\n",
    "\n",
    "   Con ello, ahora volvemos a la función $\\theta^{'}(t)$ y reemplazamos el valor calculado:\n",
    "<div style=\"text-align:center\">\n",
    "    <br />$=-\\nabla f\\left( (3,4)- t (89,246)  \\right) (89,246)$ <br/ >\n",
    "    <br />$=-\\nabla f\\left( (3-89t),(4-246t) \\right) (89,246)$ <br/ >\n",
    "</div>   \n",
    "   Ahora, evaluamos la función que derivamos con los nuevos valores $x=(3-89t), y=(4-246t)$:\n",
    "<div style=\"text-align:center\">\n",
    "    <br />$=-\\left( 9\\cdot (3-89t)^{2}+2(4-246t), 2(3-89t)+15\\cdot (4-246t)^{2} \\right) (89,246)$ <br/ >\n",
    "    <br />$=-\\lbrace{ 89\\left( 9\\cdot (3-89t)^{2}+2(4-246t)\\right)+246\\left( 2(3-89t)+15\\cdot (4-246t)^{2} \\right) \\rbrace}$ <br/ >\n",
    " <br/ >\n",
    "</div>   \n",
    "   Factoramos con ayuda de **sympy** y buscamos las raíces:"
   ]
  },
  {
   "cell_type": "code",
   "execution_count": 57,
   "metadata": {},
   "outputs": [
    {
     "name": "stdout",
     "output_type": "stream",
     "text": [
      "-229648761.0*t**2 + 7777230.0*t - 68437.0\n"
     ]
    }
   ],
   "source": [
    "t=Symbol('t')\n",
    "ft=Function('ft')(t)\n",
    "\n",
    "fnabla=-(89.*(9.*(3.-89.*t)**2+2.*(4.-246.*t))+246.*(2.*(3.-89.*t)+15*(4.-246.*t)**2))\n",
    "print(fnabla.expand())"
   ]
  },
  {
   "cell_type": "markdown",
   "metadata": {},
   "source": [
    "## Resultados"
   ]
  },
  {
   "cell_type": "code",
   "execution_count": 58,
   "metadata": {},
   "outputs": [
    {
     "name": "stdout",
     "output_type": "stream",
     "text": [
      "Derivada para buscar raices:  7777230.0 - 459297522.0*t\n",
      "*******************************************************\n",
      "Raices: [ [0.0169328803824898] ]\n",
      "*********************************\n"
     ]
    }
   ],
   "source": [
    "fnablap=fnabla.diff(t)\n",
    "print(\"Derivada para buscar raices: \",fnablap)\n",
    "print('*******************************************************')\n",
    "print(\"Raices: [\",solve(fnablap),\"]\")\n",
    "print('*********************************')"
   ]
  },
  {
   "cell_type": "markdown",
   "metadata": {},
   "source": [
    "Con ello, nuestra ecuación en función de $t$ queda como sigue:\n",
    "<div style=\"text-align:center\">\n",
    "    <br />$=-229648761t^{2} + 7777230t - 68437$<br/ >\n",
    "</div>   \n",
    "   Y la raíz que encontramos luego de derivarla (ya que nos salen valores imaginarios) es $t_{0}=0.0169$. <br /> <br />\n",
    "   \n",
    "   \n",
    "3. Dado lo anterior, el siguiente punto $(x^{(1)},y^{(1)})$ será:\n",
    "<div style=\"text-align:center\">\n",
    "    <br />$(x^{(1)},y^{(1)})=(x^{(0)},y^{(0)})-t^{*}_{0} \\nabla f(x^{(0)},y^{(0)})$ <br/ >\n",
    "    <br />$(x^{(1)},y^{(1)})=(3,4)-0.0169\\cdot (15, 29)$ <br/ >\n",
    "    <br />$(x^{(1)},y^{(1)})=(2.7465, 3.5099)$ <br/ >\n",
    "</div>\n",
    "\n",
    "Si ahora evaluamos la función original con el nuevo punto $(x^{(1)},y^{(1)})=(2.7465, 3.5099)$, obtenemos obtendremos lo siguiente:"
   ]
  },
  {
   "cell_type": "code",
   "execution_count": 59,
   "metadata": {},
   "outputs": [
    {
     "name": "stdout",
     "output_type": "stream",
     "text": [
      "Valor en el punto (x^(1),y^(1)) => (2.7465,3.5099) =  306.531865385370\n"
     ]
    }
   ],
   "source": [
    "print(\"Valor en el punto (x^(1),y^(1)) => (2.7465,3.5099) = \",fx.subs(x,2.7465).subs(y,3.5099).evalf())"
   ]
  },
  {
   "cell_type": "markdown",
   "metadata": {},
   "source": [
    "## SEGUNDA INTERACCION"
   ]
  },
  {
   "cell_type": "markdown",
   "metadata": {},
   "source": [
    "## Importancion de liberias"
   ]
  },
  {
   "cell_type": "code",
   "execution_count": 60,
   "metadata": {},
   "outputs": [],
   "source": [
    "from sympy import Function, Symbol, diff, solve"
   ]
  },
  {
   "cell_type": "markdown",
   "metadata": {},
   "source": [
    "## Procesamiento"
   ]
  },
  {
   "cell_type": "code",
   "execution_count": 61,
   "metadata": {},
   "outputs": [],
   "source": [
    "x=Symbol('x')\n",
    "y=Symbol('y')\n",
    "f=Function('f')(x)\n",
    "\n",
    "fx=3*x**3+2*x*y+5*y**3+8.9\n",
    "\n",
    "fpx=diff(fx,x)\n",
    "fpy=diff(fx,y)\n"
   ]
  },
  {
   "cell_type": "markdown",
   "metadata": {},
   "source": [
    "## Resultados"
   ]
  },
  {
   "cell_type": "code",
   "execution_count": 63,
   "metadata": {},
   "outputs": [
    {
     "name": "stdout",
     "output_type": "stream",
     "text": [
      "[ 9*x**2 + 2*y , 2*x + 15*y**2 ]\n",
      "Valor en el punto (x^(0),y^(0)) => (2.7465,3.5099) =  306.531865385370\n"
     ]
    }
   ],
   "source": [
    "print(\"[\",fpx,\",\",fpy,\"]\")\n",
    "\n",
    "print(\"Valor en el punto (x^(0),y^(0)) => (2.7465,3.5099) = \",fx.subs(x,2.7465).subs(y,3.5099).evalf())"
   ]
  },
  {
   "cell_type": "markdown",
   "metadata": {},
   "source": [
    "$\\nabla f(x,y) =  \\binom{\\frac{\\partial f(x,y)}{\\partial x}}{\\frac{\\partial f(x,y)}{\\partial y}}= \\binom{9x^{2}+2y}{2x+15y^{2}} $\n",
    "\n",
    "$\\nabla f\\left((x^{(1)},y^{(1)}) = (2.7465, 3.5099)\\right) = 306.531865$\n",
    "\n",
    "\n",
    "<div style=\"text-align:center\">\n",
    "    <br />$\\left(x^{(1)},y^{(1)}\\right)=(x^{(1)},y^{(1)})-t^{*}_{1} \\nabla f(x^{(1)},y^{(1)})$ <br />\n",
    "    <br />\n",
    "</div>\n"
   ]
  },
  {
   "cell_type": "markdown",
   "metadata": {},
   "source": [
    "### - Para esto, calculamos el valor de $t^{*}_{k}$ empleando el punto $x^{(1)}$, y la función de $t$ y en base a la derivada de la función a minimizar:"
   ]
  },
  {
   "cell_type": "markdown",
   "metadata": {},
   "source": [
    "\n",
    "  \n",
    "<div style=\"text-align:center\">\n",
    "    <br />$\\theta^{'}(t)=-\\nabla f\\left( (x^{(1)},y^{(1)} )- t \\nabla f(x^{(1)},y^{(1)}) \\right) \\nabla f(x^{(1)},y^{(1)})$ <br/ >\n",
    "    <br />$=-\\nabla f\\left( (2.7465,3.5099)- t \\nabla f(2.7465,3.5099)  \\right) \\nabla f(x^{(1)},y^{(1)})$ <br/ >\n",
    "</div>   \n",
    "\n",
    "  "
   ]
  },
  {
   "cell_type": "markdown",
   "metadata": {},
   "source": [
    "### Para hallar $\\nabla f(x^{(1)},y^{(1)})$, simplemente sustituimos el punto $(2.7465,3.5099)$ en ambas partes de la función original que se derivó con respecto a $x$ y con respecto a $y$:\n"
   ]
  },
  {
   "cell_type": "markdown",
   "metadata": {},
   "source": [
    "   \n",
    "<div style=\"text-align:center\">\n",
    "   <br/ >$\\nabla f(x^{(1)},y^{(1)}) = \\binom{9x^{2}+2y}{2x+15y^{2}}$ <br/ >\n",
    "   <br/ >$\\nabla f(2.7465,3.5099) = \\binom{9\\cdot 2.7465^{2}+2(3.5099)}{2(2.7465)+15\\cdot 3.5099^{2}}$ <br/ >\n",
    "   <br/ >$\\nabla f(2.7465,3.5099) = (74.91, 190.28)$ <br/ >\n",
    "</div>\n"
   ]
  },
  {
   "cell_type": "markdown",
   "metadata": {},
   "source": [
    "###  Con ello, ahora volvemos a la función $\\theta^{'}(t)$ y reemplazamos el valor calculado:\n"
   ]
  },
  {
   "cell_type": "markdown",
   "metadata": {},
   "source": [
    "<div style=\"text-align:center\">\n",
    "    <br />$=-\\nabla f\\left( (2.75,3.51)- t (74.91,190.28)  \\right) (74.91,190.28)$ <br/ >\n",
    "    <br />$=-\\nabla f\\left( (2.75-74.91t),(3.51-190.28t) \\right) (74.91,190.28)$ <br/ >\n",
    "</div>   \n"
   ]
  },
  {
   "cell_type": "markdown",
   "metadata": {},
   "source": [
    "### Ahora, evaluamos la función que derivamos con los nuevos valores $x=(2.75-74.91t), y=(3.51-190.28t)$:"
   ]
  },
  {
   "cell_type": "markdown",
   "metadata": {},
   "source": [
    "  \n",
    "<div style=\"text-align:center\">\n",
    "    <br />$=-\\left( 9\\cdot (2.75-74.91t)^{2}+2(3.51-190.28t), 2(2.75-74.91t)+15\\cdot (3.51-190.28t)^{2} \\right) (74.91,190.28$ <br/ >\n",
    "    <br />$=-\\lbrace{ 74.91\\left( 9\\cdot (2.75-74.91t)^{2}+2(3.51-190.28t)\\right)+190.28\\left( 2(2.75-74.91t)+15\\cdot (3.51-190.28t)^{2} \\right) \\rbrace}$ <br/ >\n",
    " <br/ >\n",
    "</div>   \n",
    "   Factoramos con ayuda de **sympy** y buscamos las raíces:"
   ]
  },
  {
   "cell_type": "code",
   "execution_count": 65,
   "metadata": {},
   "outputs": [
    {
     "name": "stdout",
     "output_type": "stream",
     "text": [
      "-107123753.295219*t**2 + 4147327.32567*t - 41834.999495\n"
     ]
    }
   ],
   "source": [
    "t=Symbol('t')\n",
    "ft=Function('ft')(t)\n",
    "\n",
    "fnabla=-(74.91*(9.*(2.75-74.91*t)**2+2.*(3.51-190.28*t))+190.28*(2.*(2.75-74.91*t)+15*(3.51-190.28*t)**2))\n",
    "\n",
    "print(fnabla.expand())\n",
    "\n",
    "fnablap=fnabla.diff(t)\n"
   ]
  },
  {
   "cell_type": "markdown",
   "metadata": {},
   "source": [
    "### Resultado"
   ]
  },
  {
   "cell_type": "code",
   "execution_count": 66,
   "metadata": {},
   "outputs": [
    {
     "name": "stdout",
     "output_type": "stream",
     "text": [
      "Derivada para buscar raices:  4147327.32567 - 214247506.590438*t\n",
      "Raices: [ [0.0193576457045923] ]\n"
     ]
    }
   ],
   "source": [
    "print(\"Derivada para buscar raices: \",fnablap)\n",
    "print(\"Raices: [\",solve(fnablap),\"]\")"
   ]
  },
  {
   "cell_type": "markdown",
   "metadata": {},
   "source": [
    "Con ello, nuestra ecuación en función de $t$ queda como sigue:\n",
    "<div style=\"text-align:center\">\n",
    "    <br />$=-107123753.295219t^{2} + 4147327.32567t - 4147327.33$<br/ >\n",
    "</div>   \n",
    "   Y la raíz que encontramos luego de derivarla (ya que nos salen valores imaginarios) es $t_{1}=0.0193$. <br /> <br />\n",
    "   \n",
    "   \n",
    "3. Dado lo anterior, el siguiente punto $(x^{(2)},y^{(2)})$ será:\n",
    "<div style=\"text-align:center\">\n",
    "    <br />$(x^{(2)},y^{(2)})=(x^{(1)},y^{(1)})-t^{*}_{1} \\nabla f(x^{(1)},y^{(1)})$ <br/ >\n",
    "    <br />$(x^{(2)},y^{(2)})=(2.75,3.51)-0.0193\\cdot (74.91, 190.28)$ <br/ >\n",
    "    <br />$(x^{(2)},y^{(2)})=(1.3, 3.51)$ <br/ >\n",
    "</div>\n",
    "\n",
    "Si ahora evaluamos la función original con el nuevo punto $(x^{(2)},y^{(2)})=(1.3, 3.51)$, obtenemos obtendremos lo siguiente:"
   ]
  },
  {
   "cell_type": "code",
   "execution_count": 67,
   "metadata": {},
   "outputs": [
    {
     "name": "stdout",
     "output_type": "stream",
     "text": [
      "Valor en el punto (x^(1),y^(1)) => (0.3155,-0.25669) =  240.834755000000\n"
     ]
    }
   ],
   "source": [
    "print(\"Valor en el punto (x^(1),y^(1)) => (0.3155,-0.25669) = \",fx.subs(x,1.3).subs(y,3.51).evalf())"
   ]
  },
  {
   "cell_type": "markdown",
   "metadata": {},
   "source": [
    "## Conclusiones"
   ]
  },
  {
   "cell_type": "markdown",
   "metadata": {},
   "source": [
    " El método del gradiente descendiente es muy usado para entrenar redes neuronales y también en aprendizaje profundo.\n",
    " \n",
    "En particular, nos interesa utilizar el gradiente descendiente para estimar los parámetros W que minimizan la función de coste. También hemos visto por qué es tan importante escalar los datos antes de utilizar este método de optimización numérica. \n",
    "\n",
    "Por último, hemos vistos que para un conjunto de datos muy amplio, el gradiente descendiente nos puede interesar más que el uso del método de los mínimos cuadrados."
   ]
  },
  {
   "cell_type": "markdown",
   "metadata": {},
   "source": [
    "## Referencias"
   ]
  },
  {
   "cell_type": "markdown",
   "metadata": {},
   "source": [
    "[1] O. Axelsson. Iterative Solution Methods. Ed. Cambridge University Press, 1996.\n",
    "\n",
    "[2] O. Axelsson, V.A. Barker. Finite Element Solution of Boundary Value Problems.\n",
    "Theory and Computations. Ed. Academic Press, 1984.\n",
    "\n",
    "[3] R. L. Burden y J. D. Faires. M´etodos Num´ericos (3a Edici´on). Ed. Thomson, 2004.\n",
    "\n",
    "[4] C. Conde y G. Winter. M´etodos y algoritmos b´asicos del ´algebra num´erica. Ed. Revert´e, 1989"
   ]
  },
  {
   "cell_type": "markdown",
   "metadata": {},
   "source": [
    "## Repositorio"
   ]
  },
  {
   "cell_type": "markdown",
   "metadata": {},
   "source": [
    "Git:https://github.com/ChristianHernand16/Inteligencia-Artificial-II.git"
   ]
  }
 ],
 "metadata": {
  "kernelspec": {
   "display_name": "Python 3",
   "language": "python",
   "name": "python3"
  },
  "language_info": {
   "codemirror_mode": {
    "name": "ipython",
    "version": 3
   },
   "file_extension": ".py",
   "mimetype": "text/x-python",
   "name": "python",
   "nbconvert_exporter": "python",
   "pygments_lexer": "ipython3",
   "version": "3.8.3"
  }
 },
 "nbformat": 4,
 "nbformat_minor": 4
}
